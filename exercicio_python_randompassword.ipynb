{
 "cells": [
  {
   "cell_type": "markdown",
   "metadata": {},
   "source": [
    "# Introdução à Ciência de Dados - UFPB\n",
    "Professor: Yuri Malheiros\n",
    "\n",
    "## Python - Random - Exercício"
   ]
  },
  {
   "cell_type": "markdown",
   "metadata": {},
   "source": [
    "Implemente a função `generate_password` que deve gerar uma senha aleatória.\n",
    "\n",
    "A função tem tres parâmetros:\n",
    "\n",
    "- `n_chars` especifica o tamanho da senha gerada\n",
    "- `use_numbers` especifica se números podem ser usados na senha. Por padrão, esse parâmetro tem valor True\n",
    "- `use_special_chars` especifica se caracteres especiais, por exemplo !#%&@?, pode ser usados na senha. Por padrão, esse parâmetro tem valor True\n",
    "\n",
    "Note que se `use_numbers` e `use_special_chars` tiverem valor False, a senha terá apenas letras maiúsculas ou minúsculas."
   ]
  },
  {
   "cell_type": "code",
   "execution_count": 1,
   "metadata": {},
   "outputs": [],
   "source": [
    "import random\n",
    "import string\n",
    "\n",
    "def generate_password(n_chars, use_numbers=True, use_special_chars=True):\n",
    "    # ADICIONE O SEU CÓDIGO AQUI\n",
    "    \n",
    "    chars = string.ascii_letters\n",
    "    \n",
    "    if use_numbers == True:\n",
    "        chars += string.digits\n",
    "        \n",
    "    if use_special_chars == True:\n",
    "        chars += string.punctuation\n",
    "        \n",
    "    password = \"\"\n",
    "    \n",
    "    for i in range(n_chars):\n",
    "        password += random.choice(chars)\n",
    "    \n",
    "    return password"
   ]
  },
  {
   "cell_type": "code",
   "execution_count": 3,
   "metadata": {},
   "outputs": [
    {
     "data": {
      "text/plain": [
       "'-hD|%8aw+UUKHd{L.TaTFX&E>l`6l*Yp?7!\\'HU,]i@l^BZ;P]Oh*=EC(_)Tc6N>,Jj&\\\\WVcQiR3&9]V5/!wc/q]v9Qx4+s\\\\:?rC$dGitm<>Tu`_vO{{@NMG<,4O01Y9lL#lHz@aYh#\\\\ce_1Bw\\'8o]GzQa#w=Z9d+[D[X`,Mb<BT>HDZa$w_(zE\"y!Az~RLhrPH#y~`T*'"
      ]
     },
     "execution_count": 3,
     "metadata": {},
     "output_type": "execute_result"
    }
   ],
   "source": [
    "generate_password(200)"
   ]
  },
  {
   "cell_type": "code",
   "execution_count": 5,
   "metadata": {},
   "outputs": [
    {
     "name": "stdout",
     "output_type": "stream",
     "text": [
      "K$-7mT{'r!qt3C/ctYZ.L?o|8G&gP-WhCNk+LjYAYurr'2>iBqX:OOr4h,PI\\oo}VkR,yiXU2QnlWkja#e%[S\\97%Q8]v|g{\\_Y=\n",
      "BB<\\.HS|R%-zM<Whxf-(}VDc.\\oc%O-|Pog^%q'<FJddaNwtf-xVwLknx@]oe=DxLfm&B/{HjhD?.P}S*;MuVF|Xi|\"%t|+{!Mak\n",
      "rlSJRBqNfYelQuyXQDRhowNrqhEDUFRmmhqhJOcctZMJYjNwKfTVfLJvpKkHzeELWjOfWMfABZvrVZHICnGVWpFteWAKPLEgisKT\n"
     ]
    }
   ],
   "source": [
    "print(generate_password(100))\n",
    "print(generate_password(100, use_numbers=False))\n",
    "print(generate_password(100, use_numbers=False, use_special_chars=False))"
   ]
  },
  {
   "cell_type": "code",
   "execution_count": null,
   "metadata": {},
   "outputs": [],
   "source": []
  }
 ],
 "metadata": {
  "kernelspec": {
   "display_name": "Python 3",
   "language": "python",
   "name": "python3"
  },
  "language_info": {
   "codemirror_mode": {
    "name": "ipython",
    "version": 3
   },
   "file_extension": ".py",
   "mimetype": "text/x-python",
   "name": "python",
   "nbconvert_exporter": "python",
   "pygments_lexer": "ipython3",
   "version": "3.9.2"
  }
 },
 "nbformat": 4,
 "nbformat_minor": 4
}
